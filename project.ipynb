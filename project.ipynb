{
 "cells": [
  {
   "cell_type": "code",
   "execution_count": 6,
   "metadata": {},
   "outputs": [
    {
     "name": "stdout",
     "output_type": "stream",
     "text": [
      "Data retrieved for IBM\n",
      "Data retrieved for AAPL\n",
      "Data retrieved for MSFT\n"
     ]
    }
   ],
   "source": [
    "import requests\n",
    "import json\n",
    "import time\n",
    "\n",
    "API_KEY = '30OOGV78CCLXQM2P'\n",
    "STOCK_SYMBOLS = ['IBM', 'AAPL', 'MSFT']\n",
    "FUNCTION = 'TIME_SERIES_INTRADAY'\n",
    "INTERVAL = '5min'\n",
    "\n",
    "all_data = {}\n",
    "\n",
    "for symbol in STOCK_SYMBOLS:\n",
    "    url = f'https://www.alphavantage.co/query?function={FUNCTION}&symbol={symbol}&interval={INTERVAL}&apikey={API_KEY}'\n",
    "    response = requests.get(url)\n",
    "\n",
    "    if response.status_code == 200:\n",
    "        all_data[symbol] = response.json()\n",
    "        print(f\"Data retrieved for {symbol}\")\n",
    "    else:\n",
    "        print(f\"Failed to retrieve data for {symbol}: {response.status_code}\")\n",
    "\n",
    "    time.sleep(12)\n",
    "\n",
    "file_name = 'all_stocks_data.json'\n",
    "with open(file_name, 'w') as file:\n",
    "    json.dump(all_data, file, indent=4)\n"
   ]
  },
  {
   "cell_type": "code",
   "execution_count": 1,
   "metadata": {},
   "outputs": [
    {
     "data": {
      "text/html": [
       "<div>\n",
       "<style scoped>\n",
       "    .dataframe tbody tr th:only-of-type {\n",
       "        vertical-align: middle;\n",
       "    }\n",
       "\n",
       "    .dataframe tbody tr th {\n",
       "        vertical-align: top;\n",
       "    }\n",
       "\n",
       "    .dataframe thead th {\n",
       "        text-align: right;\n",
       "    }\n",
       "</style>\n",
       "<table border=\"1\" class=\"dataframe\">\n",
       "  <thead>\n",
       "    <tr style=\"text-align: right;\">\n",
       "      <th></th>\n",
       "      <th>IBM</th>\n",
       "      <th>AAPL</th>\n",
       "      <th>MSFT</th>\n",
       "    </tr>\n",
       "  </thead>\n",
       "  <tbody>\n",
       "    <tr>\n",
       "      <th>Meta Data</th>\n",
       "      <td>{'1. Information': 'Intraday (5min) open, high...</td>\n",
       "      <td>{'1. Information': 'Intraday (5min) open, high...</td>\n",
       "      <td>{'1. Information': 'Intraday (5min) open, high...</td>\n",
       "    </tr>\n",
       "    <tr>\n",
       "      <th>Time Series (5min)</th>\n",
       "      <td>{'2023-11-24 17:00:00': {'1. open': '155.1800'...</td>\n",
       "      <td>{'2023-11-24 16:55:00': {'1. open': '189.9350'...</td>\n",
       "      <td>{'2023-11-24 16:55:00': {'1. open': '377.3530'...</td>\n",
       "    </tr>\n",
       "  </tbody>\n",
       "</table>\n",
       "</div>"
      ],
      "text/plain": [
       "                                                                  IBM  \\\n",
       "Meta Data           {'1. Information': 'Intraday (5min) open, high...   \n",
       "Time Series (5min)  {'2023-11-24 17:00:00': {'1. open': '155.1800'...   \n",
       "\n",
       "                                                                 AAPL  \\\n",
       "Meta Data           {'1. Information': 'Intraday (5min) open, high...   \n",
       "Time Series (5min)  {'2023-11-24 16:55:00': {'1. open': '189.9350'...   \n",
       "\n",
       "                                                                 MSFT  \n",
       "Meta Data           {'1. Information': 'Intraday (5min) open, high...  \n",
       "Time Series (5min)  {'2023-11-24 16:55:00': {'1. open': '377.3530'...  "
      ]
     },
     "execution_count": 1,
     "metadata": {},
     "output_type": "execute_result"
    }
   ],
   "source": [
    "import pandas as pd\n",
    "json_file_path = 'all_stocks_data.json'\n",
    "with open(json_file_path, 'r') as file:\n",
    "    json_data = pd.read_json(file)\n",
    "\n",
    "json_data.head()"
   ]
  },
  {
   "cell_type": "code",
   "execution_count": 11,
   "metadata": {},
   "outputs": [
    {
     "data": {
      "text/plain": [
       "'data.csv'"
      ]
     },
     "execution_count": 11,
     "metadata": {},
     "output_type": "execute_result"
    }
   ],
   "source": [
    "def extract_time_series(data, stock_symbol):\n",
    "    time_series = data[stock_symbol]['Time Series (5min)']\n",
    "    df = pd.DataFrame(time_series).T\n",
    "    df['Stock Symbol'] = stock_symbol\n",
    "    return df\n",
    "\n",
    "ibm_df = extract_time_series(json_data, 'IBM')\n",
    "aapl_df = extract_time_series(json_data, 'AAPL')\n",
    "msft_df = extract_time_series(json_data, 'MSFT')\n",
    "\n",
    "combined_df = pd.concat([ibm_df, aapl_df, msft_df]).reset_index()\n",
    "combined_df.rename(columns={'index': 'Timestamp'}, inplace=True)\n",
    "\n",
    "csv_output_path = 'data.csv'\n",
    "combined_df.to_csv(csv_output_path, index=False)\n",
    "\n",
    "csv_output_path"
   ]
  },
  {
   "cell_type": "code",
   "execution_count": 1,
   "metadata": {},
   "outputs": [],
   "source": [
    "import os\n",
    "from google.cloud import bigquery\n",
    "\n",
    "os.environ[\"GOOGLE_APPLICATION_CREDENTIALS\"] = \"data-management-406306-d02f9bb50c44.json\"\n"
   ]
  },
  {
   "cell_type": "code",
   "execution_count": 2,
   "metadata": {},
   "outputs": [],
   "source": [
    "client = bigquery.Client()\n",
    "\n",
    "project_id = \"data-management-406306\""
   ]
  },
  {
   "cell_type": "code",
   "execution_count": 5,
   "metadata": {},
   "outputs": [],
   "source": [
    "dataset_id = \"data-management-406306.Stocks_data\"\n",
    "table_id = \"data-management-406306.Stocks_data.Stockstable\"  "
   ]
  },
  {
   "cell_type": "code",
   "execution_count": 6,
   "metadata": {},
   "outputs": [
    {
     "ename": "NotFound",
     "evalue": "404 POST https://bigquery.googleapis.com/upload/bigquery/v2/projects/data-management-406306/jobs?uploadType=resumable: Not found: Dataset data-management-406306:data-management-406306.Stocks_data",
     "output_type": "error",
     "traceback": [
      "\u001b[1;31m---------------------------------------------------------------------------\u001b[0m",
      "\u001b[1;31mInvalidResponse\u001b[0m                           Traceback (most recent call last)",
      "File \u001b[1;32mc:\\Users\\rohit\\AppData\\Local\\Programs\\Python\\Python311\\Lib\\site-packages\\google\\cloud\\bigquery\\client.py:2477\u001b[0m, in \u001b[0;36mClient.load_table_from_file\u001b[1;34m(self, file_obj, destination, rewind, size, num_retries, job_id, job_id_prefix, location, project, job_config, timeout)\u001b[0m\n\u001b[0;32m   2476\u001b[0m \u001b[39mif\u001b[39;00m size \u001b[39mis\u001b[39;00m \u001b[39mNone\u001b[39;00m \u001b[39mor\u001b[39;00m size \u001b[39m>\u001b[39m\u001b[39m=\u001b[39m _MAX_MULTIPART_SIZE:\n\u001b[1;32m-> 2477\u001b[0m     response \u001b[39m=\u001b[39m \u001b[39mself\u001b[39;49m\u001b[39m.\u001b[39;49m_do_resumable_upload(\n\u001b[0;32m   2478\u001b[0m         file_obj, job_resource, num_retries, timeout, project\u001b[39m=\u001b[39;49mproject\n\u001b[0;32m   2479\u001b[0m     )\n\u001b[0;32m   2480\u001b[0m \u001b[39melse\u001b[39;00m:\n",
      "File \u001b[1;32mc:\\Users\\rohit\\AppData\\Local\\Programs\\Python\\Python311\\Lib\\site-packages\\google\\cloud\\bigquery\\client.py:2879\u001b[0m, in \u001b[0;36mClient._do_resumable_upload\u001b[1;34m(self, stream, metadata, num_retries, timeout, project)\u001b[0m\n\u001b[0;32m   2852\u001b[0m \u001b[39m\u001b[39m\u001b[39m\"\"\"Perform a resumable upload.\u001b[39;00m\n\u001b[0;32m   2853\u001b[0m \n\u001b[0;32m   2854\u001b[0m \u001b[39mArgs:\u001b[39;00m\n\u001b[1;32m   (...)\u001b[0m\n\u001b[0;32m   2877\u001b[0m \u001b[39m    is uploaded.\u001b[39;00m\n\u001b[0;32m   2878\u001b[0m \u001b[39m\"\"\"\u001b[39;00m\n\u001b[1;32m-> 2879\u001b[0m upload, transport \u001b[39m=\u001b[39m \u001b[39mself\u001b[39;49m\u001b[39m.\u001b[39;49m_initiate_resumable_upload(\n\u001b[0;32m   2880\u001b[0m     stream, metadata, num_retries, timeout, project\u001b[39m=\u001b[39;49mproject\n\u001b[0;32m   2881\u001b[0m )\n\u001b[0;32m   2883\u001b[0m \u001b[39mwhile\u001b[39;00m \u001b[39mnot\u001b[39;00m upload\u001b[39m.\u001b[39mfinished:\n",
      "File \u001b[1;32mc:\\Users\\rohit\\AppData\\Local\\Programs\\Python\\Python311\\Lib\\site-packages\\google\\cloud\\bigquery\\client.py:2952\u001b[0m, in \u001b[0;36mClient._initiate_resumable_upload\u001b[1;34m(self, stream, metadata, num_retries, timeout, project)\u001b[0m\n\u001b[0;32m   2948\u001b[0m     upload\u001b[39m.\u001b[39m_retry_strategy \u001b[39m=\u001b[39m resumable_media\u001b[39m.\u001b[39mRetryStrategy(\n\u001b[0;32m   2949\u001b[0m         max_retries\u001b[39m=\u001b[39mnum_retries\n\u001b[0;32m   2950\u001b[0m     )\n\u001b[1;32m-> 2952\u001b[0m upload\u001b[39m.\u001b[39;49minitiate(\n\u001b[0;32m   2953\u001b[0m     transport,\n\u001b[0;32m   2954\u001b[0m     stream,\n\u001b[0;32m   2955\u001b[0m     metadata,\n\u001b[0;32m   2956\u001b[0m     _GENERIC_CONTENT_TYPE,\n\u001b[0;32m   2957\u001b[0m     stream_final\u001b[39m=\u001b[39;49m\u001b[39mFalse\u001b[39;49;00m,\n\u001b[0;32m   2958\u001b[0m     timeout\u001b[39m=\u001b[39;49mtimeout,\n\u001b[0;32m   2959\u001b[0m )\n\u001b[0;32m   2961\u001b[0m \u001b[39mreturn\u001b[39;00m upload, transport\n",
      "File \u001b[1;32mc:\\Users\\rohit\\AppData\\Local\\Programs\\Python\\Python311\\Lib\\site-packages\\google\\resumable_media\\requests\\upload.py:420\u001b[0m, in \u001b[0;36mResumableUpload.initiate\u001b[1;34m(self, transport, stream, metadata, content_type, total_bytes, stream_final, timeout)\u001b[0m\n\u001b[0;32m    418\u001b[0m     \u001b[39mreturn\u001b[39;00m result\n\u001b[1;32m--> 420\u001b[0m \u001b[39mreturn\u001b[39;00m _request_helpers\u001b[39m.\u001b[39;49mwait_and_retry(\n\u001b[0;32m    421\u001b[0m     retriable_request, \u001b[39mself\u001b[39;49m\u001b[39m.\u001b[39;49m_get_status_code, \u001b[39mself\u001b[39;49m\u001b[39m.\u001b[39;49m_retry_strategy\n\u001b[0;32m    422\u001b[0m )\n",
      "File \u001b[1;32mc:\\Users\\rohit\\AppData\\Local\\Programs\\Python\\Python311\\Lib\\site-packages\\google\\resumable_media\\requests\\_request_helpers.py:155\u001b[0m, in \u001b[0;36mwait_and_retry\u001b[1;34m(func, get_status_code, retry_strategy)\u001b[0m\n\u001b[0;32m    154\u001b[0m \u001b[39mtry\u001b[39;00m:\n\u001b[1;32m--> 155\u001b[0m     response \u001b[39m=\u001b[39m func()\n\u001b[0;32m    156\u001b[0m \u001b[39mexcept\u001b[39;00m _CONNECTION_ERROR_CLASSES \u001b[39mas\u001b[39;00m e:\n",
      "File \u001b[1;32mc:\\Users\\rohit\\AppData\\Local\\Programs\\Python\\Python311\\Lib\\site-packages\\google\\resumable_media\\requests\\upload.py:416\u001b[0m, in \u001b[0;36mResumableUpload.initiate.<locals>.retriable_request\u001b[1;34m()\u001b[0m\n\u001b[0;32m    412\u001b[0m result \u001b[39m=\u001b[39m transport\u001b[39m.\u001b[39mrequest(\n\u001b[0;32m    413\u001b[0m     method, url, data\u001b[39m=\u001b[39mpayload, headers\u001b[39m=\u001b[39mheaders, timeout\u001b[39m=\u001b[39mtimeout\n\u001b[0;32m    414\u001b[0m )\n\u001b[1;32m--> 416\u001b[0m \u001b[39mself\u001b[39;49m\u001b[39m.\u001b[39;49m_process_initiate_response(result)\n\u001b[0;32m    418\u001b[0m \u001b[39mreturn\u001b[39;00m result\n",
      "File \u001b[1;32mc:\\Users\\rohit\\AppData\\Local\\Programs\\Python\\Python311\\Lib\\site-packages\\google\\resumable_media\\_upload.py:518\u001b[0m, in \u001b[0;36mResumableUpload._process_initiate_response\u001b[1;34m(self, response)\u001b[0m\n\u001b[0;32m    503\u001b[0m \u001b[39m\u001b[39m\u001b[39m\"\"\"Process the response from an HTTP request that initiated upload.\u001b[39;00m\n\u001b[0;32m    504\u001b[0m \n\u001b[0;32m    505\u001b[0m \u001b[39mThis is everything that must be done after a request that doesn't\u001b[39;00m\n\u001b[1;32m   (...)\u001b[0m\n\u001b[0;32m    516\u001b[0m \u001b[39m.. _sans-I/O: https://sans-io.readthedocs.io/\u001b[39;00m\n\u001b[0;32m    517\u001b[0m \u001b[39m\"\"\"\u001b[39;00m\n\u001b[1;32m--> 518\u001b[0m _helpers\u001b[39m.\u001b[39;49mrequire_status_code(\n\u001b[0;32m    519\u001b[0m     response,\n\u001b[0;32m    520\u001b[0m     (http\u001b[39m.\u001b[39;49mclient\u001b[39m.\u001b[39;49mOK, http\u001b[39m.\u001b[39;49mclient\u001b[39m.\u001b[39;49mCREATED),\n\u001b[0;32m    521\u001b[0m     \u001b[39mself\u001b[39;49m\u001b[39m.\u001b[39;49m_get_status_code,\n\u001b[0;32m    522\u001b[0m     callback\u001b[39m=\u001b[39;49m\u001b[39mself\u001b[39;49m\u001b[39m.\u001b[39;49m_make_invalid,\n\u001b[0;32m    523\u001b[0m )\n\u001b[0;32m    524\u001b[0m \u001b[39mself\u001b[39m\u001b[39m.\u001b[39m_resumable_url \u001b[39m=\u001b[39m _helpers\u001b[39m.\u001b[39mheader_required(\n\u001b[0;32m    525\u001b[0m     response, \u001b[39m\"\u001b[39m\u001b[39mlocation\u001b[39m\u001b[39m\"\u001b[39m, \u001b[39mself\u001b[39m\u001b[39m.\u001b[39m_get_headers\n\u001b[0;32m    526\u001b[0m )\n",
      "File \u001b[1;32mc:\\Users\\rohit\\AppData\\Local\\Programs\\Python\\Python311\\Lib\\site-packages\\google\\resumable_media\\_helpers.py:108\u001b[0m, in \u001b[0;36mrequire_status_code\u001b[1;34m(response, status_codes, get_status_code, callback)\u001b[0m\n\u001b[0;32m    107\u001b[0m         callback()\n\u001b[1;32m--> 108\u001b[0m     \u001b[39mraise\u001b[39;00m common\u001b[39m.\u001b[39mInvalidResponse(\n\u001b[0;32m    109\u001b[0m         response,\n\u001b[0;32m    110\u001b[0m         \u001b[39m\"\u001b[39m\u001b[39mRequest failed with status code\u001b[39m\u001b[39m\"\u001b[39m,\n\u001b[0;32m    111\u001b[0m         status_code,\n\u001b[0;32m    112\u001b[0m         \u001b[39m\"\u001b[39m\u001b[39mExpected one of\u001b[39m\u001b[39m\"\u001b[39m,\n\u001b[0;32m    113\u001b[0m         \u001b[39m*\u001b[39mstatus_codes\n\u001b[0;32m    114\u001b[0m     )\n\u001b[0;32m    115\u001b[0m \u001b[39mreturn\u001b[39;00m status_code\n",
      "\u001b[1;31mInvalidResponse\u001b[0m: ('Request failed with status code', 404, 'Expected one of', <HTTPStatus.OK: 200>, <HTTPStatus.CREATED: 201>)",
      "\nDuring handling of the above exception, another exception occurred:\n",
      "\u001b[1;31mNotFound\u001b[0m                                  Traceback (most recent call last)",
      "\u001b[1;32md:\\GSU sem1\\DBMS\\Project\\project.ipynb Cell 5\u001b[0m line \u001b[0;36m1\n\u001b[0;32m     <a href='vscode-notebook-cell:/d%3A/GSU%20sem1/DBMS/Project/project.ipynb#W4sZmlsZQ%3D%3D?line=10'>11</a>\u001b[0m \u001b[39m# Load the JSON data from your local file into BigQuery\u001b[39;00m\n\u001b[0;32m     <a href='vscode-notebook-cell:/d%3A/GSU%20sem1/DBMS/Project/project.ipynb#W4sZmlsZQ%3D%3D?line=11'>12</a>\u001b[0m \u001b[39mwith\u001b[39;00m \u001b[39mopen\u001b[39m(source_file, \u001b[39m\"\u001b[39m\u001b[39mrb\u001b[39m\u001b[39m\"\u001b[39m) \u001b[39mas\u001b[39;00m source_file:\n\u001b[1;32m---> <a href='vscode-notebook-cell:/d%3A/GSU%20sem1/DBMS/Project/project.ipynb#W4sZmlsZQ%3D%3D?line=12'>13</a>\u001b[0m     load_job \u001b[39m=\u001b[39m client\u001b[39m.\u001b[39;49mload_table_from_file(\n\u001b[0;32m     <a href='vscode-notebook-cell:/d%3A/GSU%20sem1/DBMS/Project/project.ipynb#W4sZmlsZQ%3D%3D?line=13'>14</a>\u001b[0m         source_file,\n\u001b[0;32m     <a href='vscode-notebook-cell:/d%3A/GSU%20sem1/DBMS/Project/project.ipynb#W4sZmlsZQ%3D%3D?line=14'>15</a>\u001b[0m         table_ref,\n\u001b[0;32m     <a href='vscode-notebook-cell:/d%3A/GSU%20sem1/DBMS/Project/project.ipynb#W4sZmlsZQ%3D%3D?line=15'>16</a>\u001b[0m         location\u001b[39m=\u001b[39;49m\u001b[39m\"\u001b[39;49m\u001b[39mUS\u001b[39;49m\u001b[39m\"\u001b[39;49m,  \u001b[39m# Replace with your desired location\u001b[39;49;00m\n\u001b[0;32m     <a href='vscode-notebook-cell:/d%3A/GSU%20sem1/DBMS/Project/project.ipynb#W4sZmlsZQ%3D%3D?line=16'>17</a>\u001b[0m         job_config\u001b[39m=\u001b[39;49mjob_config,\n\u001b[0;32m     <a href='vscode-notebook-cell:/d%3A/GSU%20sem1/DBMS/Project/project.ipynb#W4sZmlsZQ%3D%3D?line=17'>18</a>\u001b[0m     )\n\u001b[0;32m     <a href='vscode-notebook-cell:/d%3A/GSU%20sem1/DBMS/Project/project.ipynb#W4sZmlsZQ%3D%3D?line=19'>20</a>\u001b[0m \u001b[39m# Wait for the job to complete\u001b[39;00m\n\u001b[0;32m     <a href='vscode-notebook-cell:/d%3A/GSU%20sem1/DBMS/Project/project.ipynb#W4sZmlsZQ%3D%3D?line=20'>21</a>\u001b[0m load_job\u001b[39m.\u001b[39mresult()\n",
      "File \u001b[1;32mc:\\Users\\rohit\\AppData\\Local\\Programs\\Python\\Python311\\Lib\\site-packages\\google\\cloud\\bigquery\\client.py:2485\u001b[0m, in \u001b[0;36mClient.load_table_from_file\u001b[1;34m(self, file_obj, destination, rewind, size, num_retries, job_id, job_id_prefix, location, project, job_config, timeout)\u001b[0m\n\u001b[0;32m   2481\u001b[0m         response \u001b[39m=\u001b[39m \u001b[39mself\u001b[39m\u001b[39m.\u001b[39m_do_multipart_upload(\n\u001b[0;32m   2482\u001b[0m             file_obj, job_resource, size, num_retries, timeout, project\u001b[39m=\u001b[39mproject\n\u001b[0;32m   2483\u001b[0m         )\n\u001b[0;32m   2484\u001b[0m \u001b[39mexcept\u001b[39;00m resumable_media\u001b[39m.\u001b[39mInvalidResponse \u001b[39mas\u001b[39;00m exc:\n\u001b[1;32m-> 2485\u001b[0m     \u001b[39mraise\u001b[39;00m exceptions\u001b[39m.\u001b[39mfrom_http_response(exc\u001b[39m.\u001b[39mresponse)\n\u001b[0;32m   2487\u001b[0m \u001b[39mreturn\u001b[39;00m typing\u001b[39m.\u001b[39mcast(LoadJob, \u001b[39mself\u001b[39m\u001b[39m.\u001b[39mjob_from_resource(response\u001b[39m.\u001b[39mjson()))\n",
      "\u001b[1;31mNotFound\u001b[0m: 404 POST https://bigquery.googleapis.com/upload/bigquery/v2/projects/data-management-406306/jobs?uploadType=resumable: Not found: Dataset data-management-406306:data-management-406306.Stocks_data"
     ]
    }
   ],
   "source": [
    "source_file = \"stocks_d.json\"\n",
    "\n",
    "table_ref = client.dataset(dataset_id).table(table_id)\n",
    "\n",
    "job_config = bigquery.LoadJobConfig(\n",
    "    source_format=bigquery.SourceFormat.NEWLINE_DELIMITED_JSON\n",
    ")\n",
    "\n",
    "with open(source_file, \"rb\") as source_file:\n",
    "    load_job = client.load_table_from_file(\n",
    "        source_file,\n",
    "        table_ref,\n",
    "        location=\"US\", \n",
    "        job_config=job_config,\n",
    "    )\n",
    "\n",
    "load_job.result()\n",
    "\n",
    "print(f\"Loaded {load_job.output_rows} rows into {table_id}\")"
   ]
  },
  {
   "cell_type": "code",
   "execution_count": 18,
   "metadata": {},
   "outputs": [
    {
     "data": {
      "text/html": [
       "<div>\n",
       "<style scoped>\n",
       "    .dataframe tbody tr th:only-of-type {\n",
       "        vertical-align: middle;\n",
       "    }\n",
       "\n",
       "    .dataframe tbody tr th {\n",
       "        vertical-align: top;\n",
       "    }\n",
       "\n",
       "    .dataframe thead th {\n",
       "        text-align: right;\n",
       "    }\n",
       "</style>\n",
       "<table border=\"1\" class=\"dataframe\">\n",
       "  <thead>\n",
       "    <tr style=\"text-align: right;\">\n",
       "      <th></th>\n",
       "      <th>Timestamp</th>\n",
       "      <th>1. open</th>\n",
       "      <th>2. high</th>\n",
       "      <th>3. low</th>\n",
       "      <th>4. close</th>\n",
       "      <th>5. volume</th>\n",
       "      <th>Stock Symbol</th>\n",
       "    </tr>\n",
       "  </thead>\n",
       "  <tbody>\n",
       "    <tr>\n",
       "      <th>0</th>\n",
       "      <td>2023-11-24 17:00:00</td>\n",
       "      <td>155.18</td>\n",
       "      <td>155.18</td>\n",
       "      <td>155.18</td>\n",
       "      <td>155.18</td>\n",
       "      <td>335049</td>\n",
       "      <td>IBM</td>\n",
       "    </tr>\n",
       "    <tr>\n",
       "      <th>1</th>\n",
       "      <td>2023-11-24 16:55:00</td>\n",
       "      <td>155.11</td>\n",
       "      <td>155.18</td>\n",
       "      <td>155.11</td>\n",
       "      <td>155.18</td>\n",
       "      <td>40</td>\n",
       "      <td>IBM</td>\n",
       "    </tr>\n",
       "    <tr>\n",
       "      <th>2</th>\n",
       "      <td>2023-11-24 16:50:00</td>\n",
       "      <td>155.10</td>\n",
       "      <td>155.10</td>\n",
       "      <td>155.10</td>\n",
       "      <td>155.10</td>\n",
       "      <td>1</td>\n",
       "      <td>IBM</td>\n",
       "    </tr>\n",
       "    <tr>\n",
       "      <th>3</th>\n",
       "      <td>2023-11-24 16:40:00</td>\n",
       "      <td>155.05</td>\n",
       "      <td>155.05</td>\n",
       "      <td>155.05</td>\n",
       "      <td>155.05</td>\n",
       "      <td>40</td>\n",
       "      <td>IBM</td>\n",
       "    </tr>\n",
       "    <tr>\n",
       "      <th>4</th>\n",
       "      <td>2023-11-24 16:35:00</td>\n",
       "      <td>155.15</td>\n",
       "      <td>155.15</td>\n",
       "      <td>155.15</td>\n",
       "      <td>155.15</td>\n",
       "      <td>100</td>\n",
       "      <td>IBM</td>\n",
       "    </tr>\n",
       "  </tbody>\n",
       "</table>\n",
       "</div>"
      ],
      "text/plain": [
       "             Timestamp  1. open  2. high  3. low  4. close  5. volume  \\\n",
       "0  2023-11-24 17:00:00   155.18   155.18  155.18    155.18     335049   \n",
       "1  2023-11-24 16:55:00   155.11   155.18  155.11    155.18         40   \n",
       "2  2023-11-24 16:50:00   155.10   155.10  155.10    155.10          1   \n",
       "3  2023-11-24 16:40:00   155.05   155.05  155.05    155.05         40   \n",
       "4  2023-11-24 16:35:00   155.15   155.15  155.15    155.15        100   \n",
       "\n",
       "  Stock Symbol  \n",
       "0          IBM  \n",
       "1          IBM  \n",
       "2          IBM  \n",
       "3          IBM  \n",
       "4          IBM  "
      ]
     },
     "execution_count": 18,
     "metadata": {},
     "output_type": "execute_result"
    }
   ],
   "source": [
    "df = pd.read_csv('data.csv')\n",
    "df.head()"
   ]
  },
  {
   "cell_type": "code",
   "execution_count": 21,
   "metadata": {},
   "outputs": [
    {
     "data": {
      "text/plain": [
       "(300, 7)"
      ]
     },
     "execution_count": 21,
     "metadata": {},
     "output_type": "execute_result"
    }
   ],
   "source": [
    "df.shape"
   ]
  },
  {
   "cell_type": "code",
   "execution_count": 15,
   "metadata": {},
   "outputs": [],
   "source": [
    "df = df.dropna(subset=['2. high'])"
   ]
  },
  {
   "cell_type": "code",
   "execution_count": 20,
   "metadata": {},
   "outputs": [
    {
     "data": {
      "text/html": [
       "<div>\n",
       "<style scoped>\n",
       "    .dataframe tbody tr th:only-of-type {\n",
       "        vertical-align: middle;\n",
       "    }\n",
       "\n",
       "    .dataframe tbody tr th {\n",
       "        vertical-align: top;\n",
       "    }\n",
       "\n",
       "    .dataframe thead th {\n",
       "        text-align: right;\n",
       "    }\n",
       "</style>\n",
       "<table border=\"1\" class=\"dataframe\">\n",
       "  <thead>\n",
       "    <tr style=\"text-align: right;\">\n",
       "      <th></th>\n",
       "      <th>Timestamp</th>\n",
       "      <th>open</th>\n",
       "      <th>high</th>\n",
       "      <th>low</th>\n",
       "      <th>close</th>\n",
       "      <th>volume</th>\n",
       "      <th>Stock Symbol</th>\n",
       "    </tr>\n",
       "  </thead>\n",
       "  <tbody>\n",
       "    <tr>\n",
       "      <th>0</th>\n",
       "      <td>2023-11-24 17:00:00</td>\n",
       "      <td>155.18</td>\n",
       "      <td>155.18</td>\n",
       "      <td>155.18</td>\n",
       "      <td>155.18</td>\n",
       "      <td>335049</td>\n",
       "      <td>IBM</td>\n",
       "    </tr>\n",
       "    <tr>\n",
       "      <th>1</th>\n",
       "      <td>2023-11-24 16:55:00</td>\n",
       "      <td>155.11</td>\n",
       "      <td>155.18</td>\n",
       "      <td>155.11</td>\n",
       "      <td>155.18</td>\n",
       "      <td>40</td>\n",
       "      <td>IBM</td>\n",
       "    </tr>\n",
       "    <tr>\n",
       "      <th>2</th>\n",
       "      <td>2023-11-24 16:50:00</td>\n",
       "      <td>155.10</td>\n",
       "      <td>155.10</td>\n",
       "      <td>155.10</td>\n",
       "      <td>155.10</td>\n",
       "      <td>1</td>\n",
       "      <td>IBM</td>\n",
       "    </tr>\n",
       "    <tr>\n",
       "      <th>3</th>\n",
       "      <td>2023-11-24 16:40:00</td>\n",
       "      <td>155.05</td>\n",
       "      <td>155.05</td>\n",
       "      <td>155.05</td>\n",
       "      <td>155.05</td>\n",
       "      <td>40</td>\n",
       "      <td>IBM</td>\n",
       "    </tr>\n",
       "    <tr>\n",
       "      <th>4</th>\n",
       "      <td>2023-11-24 16:35:00</td>\n",
       "      <td>155.15</td>\n",
       "      <td>155.15</td>\n",
       "      <td>155.15</td>\n",
       "      <td>155.15</td>\n",
       "      <td>100</td>\n",
       "      <td>IBM</td>\n",
       "    </tr>\n",
       "  </tbody>\n",
       "</table>\n",
       "</div>"
      ],
      "text/plain": [
       "             Timestamp    open    high     low   close  volume Stock Symbol\n",
       "0  2023-11-24 17:00:00  155.18  155.18  155.18  155.18  335049          IBM\n",
       "1  2023-11-24 16:55:00  155.11  155.18  155.11  155.18      40          IBM\n",
       "2  2023-11-24 16:50:00  155.10  155.10  155.10  155.10       1          IBM\n",
       "3  2023-11-24 16:40:00  155.05  155.05  155.05  155.05      40          IBM\n",
       "4  2023-11-24 16:35:00  155.15  155.15  155.15  155.15     100          IBM"
      ]
     },
     "execution_count": 20,
     "metadata": {},
     "output_type": "execute_result"
    }
   ],
   "source": [
    "df.columns = ['Timestamp', 'open', 'high', 'low', 'close', 'volume', 'Stock Symbol']\n",
    "df.head()\n"
   ]
  },
  {
   "cell_type": "code",
   "execution_count": null,
   "metadata": {},
   "outputs": [],
   "source": []
  }
 ],
 "metadata": {
  "kernelspec": {
   "display_name": "Python 3",
   "language": "python",
   "name": "python3"
  },
  "language_info": {
   "codemirror_mode": {
    "name": "ipython",
    "version": 3
   },
   "file_extension": ".py",
   "mimetype": "text/x-python",
   "name": "python",
   "nbconvert_exporter": "python",
   "pygments_lexer": "ipython3",
   "version": "3.11.5"
  }
 },
 "nbformat": 4,
 "nbformat_minor": 2
}
